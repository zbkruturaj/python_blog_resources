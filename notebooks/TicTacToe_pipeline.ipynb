{
  "nbformat": 4,
  "nbformat_minor": 0,
  "metadata": {
    "colab": {
      "name": "TicTacToe_pipeline.ipynb",
      "version": "0.3.2",
      "provenance": []
    },
    "kernelspec": {
      "name": "python3",
      "display_name": "Python 3"
    }
  },
  "cells": [
    {
      "cell_type": "markdown",
      "metadata": {
        "id": "view-in-github",
        "colab_type": "text"
      },
      "source": [
        "[View in Colaboratory](https://colab.research.google.com/github/zbkruturaj/python_blog_resources/blob/master/notebooks/TicTacToe_pipeline.ipynb)"
      ]
    },
    {
      "metadata": {
        "id": "EAAytxXaLnZB",
        "colab_type": "code",
        "colab": {
          "base_uri": "https://localhost:8080/",
          "height": 39
        },
        "outputId": "e1c46b2b-a318-44f3-d2f2-19728e6fecf0"
      },
      "cell_type": "code",
      "source": [
        "from collections import OrderedDict, defaultdict\n",
        "import itertools\n",
        "from random import choice\n",
        "from time import sleep\n",
        "from google.colab import widgets\n",
        "\n",
        "def fix_google_colab_widgets():\n",
        "  \"\"\"\n",
        "  The clear_cell function in google.colab.widgets._grid is buggy. A patch has \n",
        "  been sent to their github repo. This is a temperory patch till that patch is \n",
        "  made live.\n",
        "  \"\"\"\n",
        "  \n",
        "  def new_clear_cell(self, row=None, col=None):\n",
        "      \"\"\"Clears given cell. If row/col are None clears active cell.\"\"\"\n",
        "      if row is not None:\n",
        "        if row < 0 or row >= self.rows:\n",
        "          raise ValueError('%d is not a valid row' % row)\n",
        "        if col < 0 or col >= self.columns:\n",
        "          raise ValueError('%d is not a valid column' % col)\n",
        "        cellid = self._get_cell_id(row, col)\n",
        "      else:\n",
        "        cellid = None\n",
        "      self._clear_component(cellid)\n",
        "  widgets.Grid.clear_cell = new_clear_cell\n",
        "\n",
        "class FixedDict(object):\n",
        "    \"\"\"A dictionary class with ordered default dictionary and immutable keys.\"\"\"\n",
        "    \n",
        "    def __init__(self, keys, default):\n",
        "      self._dictionary = OrderedDict({k: default() for k in keys})\n",
        "    \n",
        "    def __setitem__(self, key, item):\n",
        "      if key not in self._dictionary:\n",
        "          raise KeyError(f\"The key {key} is not defined.\")\n",
        "      self._dictionary[key] = item\n",
        "    \n",
        "    def __getitem__(self, key):\n",
        "      return self._dictionary[key]\n",
        "    \n",
        "    def __repr__(self):\n",
        "      return self._dictionary.__repr__()\n",
        "    \n",
        "    def __str__(self):\n",
        "      return self._dictionary.__str__()\n",
        "\n",
        "class Game:\n",
        "  \"\"\"\n",
        "  Game class to be passed throughout the pipeline. Maintains the status of the\n",
        "  game.\n",
        "  \"\"\"\n",
        "  \n",
        "  stats = FixedDict(['total','fp_wins','sp_wins','draws'],int)\n",
        "  \n",
        "  _diag = iter(([(0,0),(1,1),(2,2)],[(0,2),(1,1),(2,0)]))\n",
        "  _hori = ([(i,j) for i in range(3)] for j in range(3))\n",
        "  _vert = ([(j,i) for i in range(3)] for j in range(3))\n",
        "  combinations = list(itertools.chain(_diag, _hori, _vert))\n",
        "  \n",
        "  _sym = {1:'O',-1:'X',0:'_'}\n",
        "  \n",
        "  co_ords = [(i,j) for i in range(3) for j in range(3)]\n",
        "  \n",
        "  @classmethod\n",
        "  def get_combinations(cls):\n",
        "    \"\"\"Returns all the possible winning combinations\"\"\"\n",
        "    return Game.combinations\n",
        "  \n",
        "  def __init__(self, comp_first):\n",
        "    self.state = FixedDict(((i,j) for i in range(3) for j in range(3)),int)\n",
        "    self.comp_turn = comp_first\n",
        "    self.counter = 0\n",
        "    self.status = \"Ongoing\"\n",
        "    \n",
        "  def __repr__(self):\n",
        "    return f\"Game State:\\n{self.get_game_state()}\\n{self.get_turn()} to play...\"\n",
        "  \n",
        "  def __str__(self):\n",
        "    return self.__repr__()\n",
        "  \n",
        "  def __iadd__(self, t):\n",
        "    \"\"\"\n",
        "      Overrides the default __iadd__ so that whenever the state is changed, it \n",
        "      updates all the relevant variables. \n",
        "    \"\"\"\n",
        "    self.counter += 1\n",
        "    self.state[t] = (-1)**int(self.comp_turn)\n",
        "    self.comp_turn = not self.comp_turn\n",
        "    return self\n",
        "    \n",
        "  \n",
        "  def get_game_state(self):\n",
        "    \"\"\"Returns a string which contains the game state formatted in a 3x3 grid\"\"\"\n",
        "    return \"\\n\".join(\"\\t\".join(Game._sym[self.state[(i,j)]] for i in range(3)) \\\n",
        "                                                            for j in range(3))\n",
        "  \n",
        "  def get_turn(self):\n",
        "    \"\"\"Returns the name of the current player\"\"\"\n",
        "    return \"Player 1\" if self.comp_turn else \"Player 2\"\n",
        "\n",
        "def main(silent=True, n=1, update_every=100):\n",
        "  \"\"\"\n",
        "  The clear_cell function in google.colab.widgets._grid is buggy. A patch has \n",
        "  been sent to their github repo. This is a temperory patch till that patch is \n",
        "  made live.\n",
        "  \n",
        "  Args:\n",
        "      silent: If False, shows updates on a game board as they happen. def: True\n",
        "      n     : Number of games to simulate. def: 1\n",
        "      update_every: Number of games between stat updates. def: 100\n",
        "      \n",
        "  \"\"\"\n",
        "  \n",
        "  main.silent = silent\n",
        "  if not main.silent:\n",
        "    main.grid = widgets.Grid(3,3, header_row=False, header_column=False)\n",
        "    main.eval_grid = widgets.Grid(8,2, header_row=False, header_column=False)\n",
        "    for i,c in enumerate(Game.get_combinations()):\n",
        "      main.eval_grid.clear_cell(i,0)\n",
        "      with main.eval_grid.output_to(i,0):\n",
        "        print(c)\n",
        "    \n",
        "  stats_grid = widgets.Grid(1,1, header_row=False, header_column=False)\n",
        "  def update_stats():\n",
        "    stats_grid.clear_cell(0,0)\n",
        "    with stats_grid.output_to(0,0):\n",
        "      print(Game.stats)\n",
        "  \n",
        "  for i in range(n):\n",
        "    game = Game(False)\n",
        "    while evaluate(game):\n",
        "      show(game)\n",
        "      move(game)\n",
        "    if i%update_every==0 and main.silent:\n",
        "      update_stats()\n",
        "  update_stats()\n",
        "    \n",
        "def evaluate(game):\n",
        "  \"\"\"\n",
        "  Evaluates if the game is finished i.e. if anyone won. Returns a boolean after \n",
        "  printing the final state.\n",
        "  \"\"\"\n",
        "  show_eval(game)\n",
        "  if canPlay(game):\n",
        "    return True\n",
        "  else:\n",
        "    Game.stats['total']+=1\n",
        "    final_status(game)\n",
        "    show(game)\n",
        "    return False\n",
        "  \n",
        "def canPlay(game):\n",
        "  \"\"\"Checks if the game is over or can be played more.\"\"\"\n",
        "  for curr in (sum(game.state[index] for index in c) \\\n",
        "               for c in Game.get_combinations()):\n",
        "    if curr >= 3:\n",
        "      game.status = \"Player 1 won!\"\n",
        "      Game.stats['fp_wins']+=1\n",
        "      return False\n",
        "    elif curr <= -3:\n",
        "      game.status = \"Player 2 won!\"\n",
        "      Game.stats['sp_wins']+=1\n",
        "      return False\n",
        "  if game.counter < 9:\n",
        "    return True\n",
        "  else:\n",
        "    game.status = \"Draw\"\n",
        "    Game.stats['draws']+=1\n",
        "    return False\n",
        "\n",
        "def final_status(game):\n",
        "  \"\"\"Prints the final Status of the game if not silent.\"\"\"\n",
        "  if main.silent:\n",
        "    return\n",
        "  print(game.status)\n",
        "  \n",
        "def move(game):\n",
        "  \"\"\"\n",
        "    Depending on player asks first or second player to move. \n",
        "  \"\"\"\n",
        "  if game.comp_turn:\n",
        "    comp_move(game)\n",
        "  else:\n",
        "    comp_move(game)\n",
        "  \n",
        "def human_move(game):\n",
        "  \"\"\"\n",
        "    Takes input for human move.\n",
        "    //Currently unused.\n",
        "  \"\"\"\n",
        "  game += tuple(map(int,input(\"Type in co_ordinates i j:\").split()))\n",
        "\n",
        "def comp_move(game,ty='random'):\n",
        "  \"\"\"\n",
        "    Generates a computer move.\n",
        "    //TODO add uniformly random move function.\n",
        "    //TODO add min_max function with parameterized depth.\n",
        "  \"\"\"\n",
        "  moves = {'random' : random_move}\n",
        "  moves[ty](game)\n",
        "\n",
        "def random_move(game):\n",
        "  \"\"\"Generates a (not uniformly) random move.\"\"\"\n",
        "  c = choice(Game.co_ords)\n",
        "  while game.state[c] != 0:\n",
        "    c = choice(Game.co_ords)\n",
        "  game += c\n",
        "  \n",
        "def show(game):\n",
        "  \"\"\"Shows game stat if not silent.\"\"\"\n",
        "  if main.silent:\n",
        "    return\n",
        "  for i,j in itertools.product(range(3),range(3)):\n",
        "    main.grid.clear_cell(i,j)\n",
        "    with main.grid.output_to(i, j):\n",
        "      print(Game._sym[game.state[(i,j)]])\n",
        "      \n",
        "def show_eval(game):\n",
        "  \"\"\"Shows game evaluation if not silent.\"\"\"\n",
        "  if main.silent:\n",
        "    return\n",
        "  for i,c in enumerate(Game.get_combinations()):\n",
        "    main.eval_grid.clear_cell(i,1)\n",
        "    with main.eval_grid.output_to(i,1):\n",
        "      print(sum(game.state[_] for _ in c))\n",
        "  \n",
        "if __name__ == '__main__':\n",
        "  fix_google_colab_widgets()\n",
        "  main(silent=True, n=10000)"
      ],
      "execution_count": 1,
      "outputs": [
        {
          "output_type": "display_data",
          "data": {
            "text/html": [
              "<style>\n",
              "       table#id2, #id2 > tbody > tr > th, #id2 > tbody > tr > td {\n",
              "         border: 1px solid lightgray;\n",
              "         border-collapse:collapse;\n",
              "         \n",
              "        }</style>"
            ],
            "text/plain": [
              "<IPython.core.display.HTML object>"
            ]
          },
          "metadata": {
            "tags": [
              "outputarea_id2"
            ]
          }
        },
        {
          "output_type": "display_data",
          "data": {
            "text/html": [
              "<table id=id2><tr><td id=id2-0-0></td></tr></table>"
            ],
            "text/plain": [
              "<IPython.core.display.HTML object>"
            ]
          },
          "metadata": {
            "tags": [
              "outputarea_id2"
            ]
          }
        },
        {
          "output_type": "display_data",
          "data": {
            "application/javascript": [
              "window[\"6773a39e-4734-11e8-a9d6-0242ac110002\"] = google.colab.output.getActiveOutputArea();\n",
              "//# sourceURL=js_d3625878aa"
            ],
            "text/plain": [
              "<IPython.core.display.Javascript object>"
            ]
          },
          "metadata": {
            "tags": [
              "id2-0-0",
              "outputarea_id2"
            ]
          }
        },
        {
          "output_type": "display_data",
          "data": {
            "application/javascript": [
              "window[\"6773f8bc-4734-11e8-a9d6-0242ac110002\"] = document.querySelector(\"#id2-0-0\");\n",
              "//# sourceURL=js_953351d826"
            ],
            "text/plain": [
              "<IPython.core.display.Javascript object>"
            ]
          },
          "metadata": {
            "tags": [
              "id2-0-0",
              "outputarea_id2"
            ]
          }
        },
        {
          "output_type": "display_data",
          "data": {
            "application/javascript": [
              "window[\"67744dee-4734-11e8-a9d6-0242ac110002\"] = google.colab.output.setActiveOutputArea(window[\"6773f8bc-4734-11e8-a9d6-0242ac110002\"]);\n",
              "//# sourceURL=js_8bf9e96a95"
            ],
            "text/plain": [
              "<IPython.core.display.Javascript object>"
            ]
          },
          "metadata": {
            "tags": [
              "id2-0-0",
              "outputarea_id2"
            ]
          }
        },
        {
          "output_type": "stream",
          "text": [
            "OrderedDict([('total', 10000), ('fp_wins', 5825), ('sp_wins', 2945), ('draws', 1230)])\n"
          ],
          "name": "stdout"
        },
        {
          "output_type": "display_data",
          "data": {
            "application/javascript": [
              "window[\"677580f6-4734-11e8-a9d6-0242ac110002\"] = google.colab.output.setActiveOutputArea(window[\"6773a39e-4734-11e8-a9d6-0242ac110002\"]);\n",
              "//# sourceURL=js_ff69b121a5"
            ],
            "text/plain": [
              "<IPython.core.display.Javascript object>"
            ]
          },
          "metadata": {
            "tags": [
              "id2-0-0",
              "outputarea_id2"
            ]
          }
        }
      ]
    },
    {
      "metadata": {
        "id": "Zirgr7lWLqXl",
        "colab_type": "code",
        "colab": {}
      },
      "cell_type": "code",
      "source": [
        ""
      ],
      "execution_count": 0,
      "outputs": []
    }
  ]
}